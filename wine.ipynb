{
 "cells": [
  {
   "cell_type": "code",
   "execution_count": 4,
   "outputs": [],
   "source": [
    "# В этом коде используется датасет вин California wines из sklearn для построения и исследования модели K Nearest Neighbors.\n",
    "# Сначала данные загружаются в Pandas DataFrame для удобства работы. Изучается описание, проверяется отсутствие пропущенных значений, распределение классов.\n",
    "# Далее данные разбиваются на обучающую и тестовую выборки. Строится парный график зависимостей признаков (pairplot).\n",
    "# Проверяется необходимость масштабирования данных, после чего признаки масштабируются при помощи MinMaxScaler.\n",
    "# Затем запускается цикл перебора количества соседей для модели KNN от 2 до 10. Для каждого варианта строится модель, оценивается качество на тестовой выборке. Лучшее значение запоминается.\n",
    "# В конце строится матрица ошибок для лучшей модели и выводится лучшее количество соседей.\n",
    "# Таким образом, в работе подбираются гиперпараметры и исследуется качество модели KNN на датасете вин."
   ],
   "metadata": {
    "collapsed": false
   }
  },
  {
   "cell_type": "code",
   "execution_count": 5,
   "id": "initial_id",
   "metadata": {
    "collapsed": true,
    "ExecuteTime": {
     "end_time": "2023-10-22T14:27:24.798261501Z",
     "start_time": "2023-10-22T14:27:24.662929456Z"
    }
   },
   "outputs": [
    {
     "ename": "ModuleNotFoundError",
     "evalue": "No module named 'scikitplot'",
     "output_type": "error",
     "traceback": [
      "\u001B[1;31m---------------------------------------------------------------------------\u001B[0m",
      "\u001B[1;31mModuleNotFoundError\u001B[0m                       Traceback (most recent call last)",
      "Cell \u001B[1;32mIn[5], line 9\u001B[0m\n\u001B[0;32m      7\u001B[0m \u001B[38;5;28;01mfrom\u001B[39;00m \u001B[38;5;21;01msklearn\u001B[39;00m\u001B[38;5;21;01m.\u001B[39;00m\u001B[38;5;21;01mpreprocessing\u001B[39;00m \u001B[38;5;28;01mimport\u001B[39;00m MinMaxScaler, StandardScaler\n\u001B[0;32m      8\u001B[0m \u001B[38;5;28;01mfrom\u001B[39;00m \u001B[38;5;21;01msklearn\u001B[39;00m\u001B[38;5;21;01m.\u001B[39;00m\u001B[38;5;21;01mneighbors\u001B[39;00m \u001B[38;5;28;01mimport\u001B[39;00m KNeighborsClassifier\n\u001B[1;32m----> 9\u001B[0m \u001B[38;5;28;01mimport\u001B[39;00m \u001B[38;5;21;01mscikitplot\u001B[39;00m \u001B[38;5;28;01mas\u001B[39;00m \u001B[38;5;21;01mskplt\u001B[39;00m\n\u001B[0;32m     10\u001B[0m \u001B[38;5;28;01mimport\u001B[39;00m \u001B[38;5;21;01mmissingno\u001B[39;00m \u001B[38;5;28;01mas\u001B[39;00m \u001B[38;5;21;01mmsno\u001B[39;00m\n\u001B[0;32m     12\u001B[0m wine \u001B[38;5;241m=\u001B[39m load_wine()\n",
      "\u001B[1;31mModuleNotFoundError\u001B[0m: No module named 'scikitplot'"
     ]
    }
   ],
   "source": [
    "import pandas as pd\n",
    "import numpy as np\n",
    "import seaborn as sns\n",
    "import matplotlib.pyplot as plt\n",
    "from sklearn.datasets import load_wine\n",
    "from sklearn.model_selection import train_test_split\n",
    "from sklearn.preprocessing import MinMaxScaler, StandardScaler\n",
    "from sklearn.neighbors import KNeighborsClassifier\n",
    "import scikitplot as skplt\n",
    "import missingno as msno\n",
    "\n",
    "wine = load_wine()"
   ]
  },
  {
   "cell_type": "code",
   "execution_count": null,
   "outputs": [],
   "source": [
    "\n",
    "print(wine.DESCR)"
   ],
   "metadata": {
    "collapsed": false,
    "ExecuteTime": {
     "end_time": "2023-10-22T14:27:24.829188022Z",
     "start_time": "2023-10-22T14:27:24.709351784Z"
    }
   },
   "id": "de010979693b7d48"
  },
  {
   "cell_type": "code",
   "execution_count": null,
   "outputs": [],
   "source": [
    "# В Pandas я создаю фрейм данных для более упорядоченного отображения данных и проверяю соответствие предоставленному описанию:\n",
    "df = pd.DataFrame(wine.data, columns=wine.feature_names)\n",
    "df['label'] = wine.target\n",
    "df.head()"
   ],
   "metadata": {
    "collapsed": false,
    "ExecuteTime": {
     "end_time": "2023-10-22T14:27:24.829927491Z",
     "start_time": "2023-10-22T14:27:24.709607539Z"
    }
   },
   "id": "cfeb8fbe03be8378"
  },
  {
   "cell_type": "code",
   "execution_count": null,
   "outputs": [],
   "source": [
    "#проверяем процентное представительство классов\n",
    "df.label.value_counts(normalize=True).round(3)"
   ],
   "metadata": {
    "collapsed": false,
    "ExecuteTime": {
     "end_time": "2023-10-22T14:27:24.830280743Z",
     "start_time": "2023-10-22T14:27:24.709918398Z"
    }
   },
   "id": "925d85197c3521d4"
  },
  {
   "cell_type": "code",
   "execution_count": null,
   "outputs": [],
   "source": [
    "# Проверка на null\n",
    "df.info()"
   ],
   "metadata": {
    "collapsed": false,
    "ExecuteTime": {
     "end_time": "2023-10-22T14:27:24.830478810Z",
     "start_time": "2023-10-22T14:27:24.710090764Z"
    }
   },
   "id": "f46086a334bf71a1"
  },
  {
   "cell_type": "code",
   "execution_count": null,
   "outputs": [],
   "source": [
    "# Копирую нужные мне столбцы\n",
    "y = df[\"label\"].copy()\n",
    "X = df.iloc[:, :-1].copy()\n",
    "X_train, X_test, y_train, y_test = train_test_split(wine.data, wine.target, test_size=0.25, random_state=0)\n"
   ],
   "metadata": {
    "collapsed": false,
    "ExecuteTime": {
     "end_time": "2023-10-22T14:27:24.830763339Z",
     "start_time": "2023-10-22T14:27:24.715856426Z"
    }
   },
   "id": "698fea5d752d2a0"
  },
  {
   "cell_type": "code",
   "execution_count": null,
   "outputs": [],
   "source": [
    "# для визуального исследования данных\n",
    "sns.pairplot(df,\n",
    "             hue='label',\n",
    "             palette=\"tab10\",\n",
    "             corner=True)\n",
    "\n",
    "plt.show()"
   ],
   "metadata": {
    "collapsed": false,
    "ExecuteTime": {
     "end_time": "2023-10-22T14:27:42.450566904Z",
     "start_time": "2023-10-22T14:27:24.720530765Z"
    }
   },
   "id": "8bb2ccdbe4745c"
  },
  {
   "cell_type": "code",
   "execution_count": null,
   "outputs": [],
   "source": [
    "# Проверка нужна ли масштабируемости\n",
    "df.describe().loc[['min', 'max']].T"
   ],
   "metadata": {
    "collapsed": false,
    "ExecuteTime": {
     "end_time": "2023-10-22T14:27:43.646615246Z",
     "start_time": "2023-10-22T14:27:42.477303576Z"
    }
   },
   "id": "52253ba4d36fd270"
  },
  {
   "cell_type": "code",
   "execution_count": null,
   "outputs": [],
   "source": [
    "# Стабилизирую данные\n",
    "scaler = MinMaxScaler()\n",
    "X_train = scaler.fit_transform(X_train)\n",
    "X_test = scaler.transform(X_test)"
   ],
   "metadata": {
    "collapsed": false,
    "ExecuteTime": {
     "end_time": "2023-10-22T14:27:43.646828888Z",
     "start_time": "2023-10-22T14:27:42.477506811Z"
    }
   },
   "id": "5e72b32eb260e900"
  },
  {
   "cell_type": "code",
   "execution_count": null,
   "outputs": [],
   "source": [
    "# Указываю соседей\n",
    "best = 0\n",
    "c = 0\n",
    "for i in range(2, 11):\n",
    "    knn = KNeighborsClassifier(n_neighbors=i)\n",
    "    knn.fit(X_train, y_train)\n",
    "    y_pred = knn.predict(X_test)\n",
    "    n = np.mean(y_pred == y_test)\n",
    "    if n > best:\n",
    "        best = n\n",
    "        c = i\n",
    "print(best, c)"
   ],
   "metadata": {
    "collapsed": false,
    "ExecuteTime": {
     "end_time": "2023-10-22T14:27:43.647011031Z",
     "start_time": "2023-10-22T14:27:42.477642790Z"
    }
   },
   "id": "ff6bc62543237b6e"
  },
  {
   "cell_type": "code",
   "execution_count": null,
   "outputs": [],
   "source": [
    "# Этот код строит матрицу неточностей или матрицу ошибок (confusion matrix) для результатов классификации.\n",
    "knn = KNeighborsClassifier(n_neighbors=c)\n",
    "knn.fit(X_train, y_train)\n",
    "y_pred = knn.predict(X_test)\n",
    "skplt.metrics.plot_confusion_matrix(y_test, y_pred, normalize=False)\n",
    "plt.show()"
   ],
   "metadata": {
    "collapsed": false,
    "ExecuteTime": {
     "end_time": "2023-10-22T14:27:43.647189194Z",
     "start_time": "2023-10-22T14:27:42.491652539Z"
    }
   },
   "id": "289fca48480aee6"
  },
  {
   "cell_type": "code",
   "execution_count": null,
   "outputs": [],
   "source": [],
   "metadata": {
    "collapsed": false,
    "ExecuteTime": {
     "end_time": "2023-10-22T14:27:43.647298633Z",
     "start_time": "2023-10-22T14:27:42.650266713Z"
    }
   },
   "id": "49ee643d81549e85"
  }
 ],
 "metadata": {
  "kernelspec": {
   "display_name": "Python 3",
   "language": "python",
   "name": "python3"
  },
  "language_info": {
   "codemirror_mode": {
    "name": "ipython",
    "version": 2
   },
   "file_extension": ".py",
   "mimetype": "text/x-python",
   "name": "python",
   "nbconvert_exporter": "python",
   "pygments_lexer": "ipython2",
   "version": "2.7.6"
  }
 },
 "nbformat": 4,
 "nbformat_minor": 5
}
