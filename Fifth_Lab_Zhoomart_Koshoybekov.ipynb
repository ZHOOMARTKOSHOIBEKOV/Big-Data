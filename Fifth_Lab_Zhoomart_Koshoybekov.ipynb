{
 "cells": [
  {
   "cell_type": "markdown",
   "source": [
    "<h1>Акматов Тариэл Ain-1-21</h1>\n",
    "<h3>Лабораторная работа №5\n",
    "Изучение моделей классификации и регрессии.</h3>\n",
    "<h5>Цель работы: Применить библиотеки  sсikit-learn и mglearn  для построения моделей классификации и  регрессии. Изучить полученные данные, научиться оценивать качество моделей.</h5>"
   ],
   "metadata": {
    "collapsed": false,
    "ExecuteTime": {
     "end_time": "2023-11-08T12:22:43.690610500Z",
     "start_time": "2023-11-08T12:22:43.574983200Z"
    }
   },
   "id": "477c465ccc618df3"
  },
  {
   "cell_type": "code",
   "execution_count": 1,
   "outputs": [
    {
     "ename": "ModuleNotFoundError",
     "evalue": "No module named 'mglearn'",
     "output_type": "error",
     "traceback": [
      "\u001B[1;31m---------------------------------------------------------------------------\u001B[0m",
      "\u001B[1;31mModuleNotFoundError\u001B[0m                       Traceback (most recent call last)",
      "Cell \u001B[1;32mIn[1], line 3\u001B[0m\n\u001B[0;32m      1\u001B[0m \u001B[38;5;28;01mimport\u001B[39;00m \u001B[38;5;21;01mmatplotlib\u001B[39;00m\u001B[38;5;21;01m.\u001B[39;00m\u001B[38;5;21;01mpyplot\u001B[39;00m \u001B[38;5;28;01mas\u001B[39;00m \u001B[38;5;21;01mplt\u001B[39;00m\n\u001B[0;32m      2\u001B[0m \u001B[38;5;28;01mimport\u001B[39;00m \u001B[38;5;21;01mnumpy\u001B[39;00m \u001B[38;5;28;01mas\u001B[39;00m \u001B[38;5;21;01mnp\u001B[39;00m\n\u001B[1;32m----> 3\u001B[0m \u001B[38;5;28;01mimport\u001B[39;00m \u001B[38;5;21;01mmglearn\u001B[39;00m\n\u001B[0;32m      4\u001B[0m \u001B[38;5;28;01mfrom\u001B[39;00m \u001B[38;5;21;01msklearn\u001B[39;00m\u001B[38;5;21;01m.\u001B[39;00m\u001B[38;5;21;01mlinear_model\u001B[39;00m \u001B[38;5;28;01mimport\u001B[39;00m LinearRegression\n\u001B[0;32m      5\u001B[0m \u001B[38;5;28;01mimport\u001B[39;00m \u001B[38;5;21;01mmglearn\u001B[39;00m\u001B[38;5;21;01m.\u001B[39;00m\u001B[38;5;21;01mdatasets\u001B[39;00m\n",
      "\u001B[1;31mModuleNotFoundError\u001B[0m: No module named 'mglearn'"
     ]
    }
   ],
   "source": [
    "import matplotlib.pyplot as plt\n",
    "import numpy as np\n",
    "import mglearn\n",
    "from sklearn.linear_model import LinearRegression\n",
    "import mglearn.datasets"
   ],
   "metadata": {
    "collapsed": false,
    "ExecuteTime": {
     "end_time": "2023-11-08T12:18:11.955291900Z",
     "start_time": "2023-11-08T12:18:08.392726600Z"
    }
   },
   "id": "6e00c7a1cad2b3f7"
  },
  {
   "cell_type": "code",
   "execution_count": 3,
   "outputs": [
    {
     "ename": "ModuleNotFoundError",
     "evalue": "No module named 'mglearn'",
     "output_type": "error",
     "traceback": [
      "\u001B[1;31m---------------------------------------------------------------------------\u001B[0m",
      "\u001B[1;31mModuleNotFoundError\u001B[0m                       Traceback (most recent call last)",
      "Cell \u001B[1;32mIn[3], line 3\u001B[0m\n\u001B[0;32m      1\u001B[0m \u001B[38;5;28;01mimport\u001B[39;00m \u001B[38;5;21;01mmatplotlib\u001B[39;00m\u001B[38;5;21;01m.\u001B[39;00m\u001B[38;5;21;01mpyplot\u001B[39;00m \u001B[38;5;28;01mas\u001B[39;00m \u001B[38;5;21;01mplt\u001B[39;00m\n\u001B[0;32m      2\u001B[0m \u001B[38;5;28;01mimport\u001B[39;00m \u001B[38;5;21;01mnumpy\u001B[39;00m \u001B[38;5;28;01mas\u001B[39;00m \u001B[38;5;21;01mnp\u001B[39;00m\n\u001B[1;32m----> 3\u001B[0m \u001B[38;5;28;01mimport\u001B[39;00m \u001B[38;5;21;01mmglearn\u001B[39;00m\n\u001B[0;32m      4\u001B[0m \u001B[38;5;28;01mfrom\u001B[39;00m \u001B[38;5;21;01msklearn\u001B[39;00m\u001B[38;5;21;01m.\u001B[39;00m\u001B[38;5;21;01mlinear_model\u001B[39;00m \u001B[38;5;28;01mimport\u001B[39;00m LinearRegression\n\u001B[0;32m      5\u001B[0m \u001B[38;5;28;01mimport\u001B[39;00m \u001B[38;5;21;01mmglearn\u001B[39;00m\u001B[38;5;21;01m.\u001B[39;00m\u001B[38;5;21;01mdatasets\u001B[39;00m\n",
      "\u001B[1;31mModuleNotFoundError\u001B[0m: No module named 'mglearn'"
     ]
    }
   ],
   "source": [],
   "metadata": {
    "collapsed": false,
    "ExecuteTime": {
     "end_time": "2023-11-08T12:22:43.905712Z",
     "start_time": "2023-11-08T12:22:43.623009400Z"
    }
   },
   "id": "b0ef68b3b65b743f"
  },
  {
   "cell_type": "code",
   "execution_count": null,
   "outputs": [],
   "source": [
    "<h3>Набор данных по диабету </h3>"
   ],
   "metadata": {
    "collapsed": false,
    "ExecuteTime": {
     "start_time": "2023-11-08T12:22:43.643468800Z"
    }
   },
   "id": "6ac79e6546b9350a"
  },
  {
   "cell_type": "code",
   "execution_count": null,
   "outputs": [],
   "source": [
    "from sklearn.datasets import load_diabetes\n",
    "diabetes = load_diabetes()\n",
    "print(f\"Форма массива data для набора diabetes: {diabetes.data.shape}\")"
   ],
   "metadata": {
    "collapsed": false,
    "ExecuteTime": {
     "start_time": "2023-11-08T12:22:43.646613300Z"
    }
   },
   "id": "33817b974b04af84"
  },
  {
   "cell_type": "code",
   "execution_count": null,
   "outputs": [],
   "source": [
    "print(f\"Ключи diabetes : {diabetes.keys()}\")"
   ],
   "metadata": {
    "collapsed": false,
    "ExecuteTime": {
     "start_time": "2023-11-08T12:22:43.647612500Z"
    }
   },
   "id": "84859581454fc9a8"
  },
  {
   "cell_type": "markdown",
   "source": [],
   "metadata": {
    "collapsed": false,
    "ExecuteTime": {
     "start_time": "2023-11-08T12:22:43.649610600Z"
    }
   },
   "id": "db196254f1a704ed"
  },
  {
   "cell_type": "code",
   "execution_count": null,
   "outputs": [],
   "source": [
    "print(diabetes[\"DESCR\"] [:1500] + '/n....')"
   ],
   "metadata": {
    "collapsed": false,
    "ExecuteTime": {
     "start_time": "2023-11-08T12:18:11.966290600Z"
    }
   },
   "id": "b4a187a58a32d76e"
  },
  {
   "cell_type": "code",
   "execution_count": null,
   "outputs": [],
   "source": [
    "print(f'Имена признаков: {diabetes.feature_names}')"
   ],
   "metadata": {
    "collapsed": false,
    "ExecuteTime": {
     "start_time": "2023-11-08T12:22:43.650610100Z"
    }
   },
   "id": "a111b5d1c43b3680"
  },
  {
   "cell_type": "markdown",
   "source": [
    "<h5>Метод KNeighborsRegressor</h5>"
   ],
   "metadata": {
    "collapsed": false,
    "ExecuteTime": {
     "start_time": "2023-11-08T12:22:43.651609900Z"
    }
   },
   "id": "74fba6591156d9ab"
  },
  {
   "cell_type": "code",
   "execution_count": null,
   "outputs": [],
   "source": [
    "from sklearn.model_selection import train_test_split\n",
    "from sklearn.datasets import load_diabetes\n",
    "from sklearn.neighbors import KNeighborsRegressor\n",
    "\n",
    "# Load the diabetes dataset\n",
    "diabetes = load_diabetes()\n",
    "X = diabetes.data[:, 0:100000]  # Select the 50th feature\n",
    "\n",
    "y = diabetes.target\n",
    "\n",
    "# Split the data into training and testing sets\n",
    "X_train, X_test, y_train, y_test = train_test_split(X, y, random_state=0)\n",
    "\n",
    "# Create and fit the KNeighborsRegressor model\n",
    "reg = KNeighborsRegressor(n_neighbors=3)\n",
    "reg.fit(X_train, y_train)\n"
   ],
   "metadata": {
    "collapsed": false,
    "ExecuteTime": {
     "start_time": "2023-11-08T12:18:11.969295400Z"
    }
   },
   "id": "3e3796c67d5fa6fb"
  },
  {
   "cell_type": "code",
   "execution_count": null,
   "outputs": [],
   "source": [
    "print(f'Прогнозы для тестового набора: {reg.predict(X_test)}')"
   ],
   "metadata": {
    "collapsed": false,
    "ExecuteTime": {
     "start_time": "2023-11-08T12:22:43.653613300Z"
    }
   },
   "id": "c7d4f6d5c3f3a798"
  },
  {
   "cell_type": "code",
   "execution_count": null,
   "outputs": [],
   "source": [
    "print(f\"{reg.score(X_test,y_test)}\")"
   ],
   "metadata": {
    "collapsed": false,
    "ExecuteTime": {
     "start_time": "2023-11-08T12:22:43.655610700Z"
    }
   },
   "id": "bf65bfd5dbb11590"
  },
  {
   "cell_type": "code",
   "execution_count": null,
   "outputs": [],
   "source": [
    "import numpy as np\n",
    "import matplotlib.pyplot as plt\n",
    "import mglearn\n",
    "from sklearn.neighbors import KNeighborsRegressor\n",
    "from sklearn.datasets import load_diabetes\n",
    "from sklearn.model_selection import train_test_split\n",
    "\n",
    "diabetes = load_diabetes()\n",
    "X_train, X_test, y_train, y_test = train_test_split(\n",
    "    diabetes.data[:, 2:3], diabetes.target, random_state=66)\n",
    "\n",
    "fig, axes = plt.subplots(1, 3, figsize=(15, 4))\n",
    "\n",
    "line = np.linspace(-0.1, 0.15, 1000).reshape(-1, 1)\n",
    "\n",
    "for n_neighbors, ax in zip([1, 3, 9], axes):\n",
    "    reg = KNeighborsRegressor(n_neighbors=n_neighbors)\n",
    "    reg.fit(X_train, y_train)\n",
    "    ax.plot(line, reg.predict(line))\n",
    "    ax.plot(X_train, y_train, '^', c=mglearn.cm2(0), markersize=8)\n",
    "    ax.plot(X_test, y_test, 'v', c=mglearn.cm2(1), markersize=8)\n",
    "    ax.set_title(\n",
    "        \"{} neighbor(s)\\n train score: {:.2f} test score: {:.2f}\".format(\n",
    "            n_neighbors, reg.score(X_train, y_train),\n",
    "            reg.score(X_test, y_test))\n",
    "    )\n",
    "    ax.set_xlabel(\"Feature\")\n",
    "    ax.set_ylabel(\"Target Variable\")\n",
    "\n",
    "axes[0].legend([\"Model Predictions\", \"Training Data/Responses\", \"Test Data/Responses\"], loc=\"best\")\n",
    "\n",
    "plt.show()\n"
   ],
   "metadata": {
    "collapsed": false,
    "ExecuteTime": {
     "start_time": "2023-11-08T12:22:43.657611200Z"
    }
   },
   "id": "196077be521cce93"
  },
  {
   "cell_type": "markdown",
   "source": [
    "<h3>Линейные модели регрессии</h3>"
   ],
   "metadata": {
    "collapsed": false,
    "ExecuteTime": {
     "start_time": "2023-11-08T12:22:43.660612200Z"
    }
   },
   "id": "c5e5a84f0f576ea2"
  },
  {
   "cell_type": "code",
   "execution_count": null,
   "outputs": [],
   "source": [
    "from sklearn.linear_model import LinearRegression\n",
    "X = diabetes.data[:, 0:100000]  # Select the 50th feature\n",
    "y = diabetes.target\n",
    "\n",
    "# Split the data into training and testing sets\n",
    "X_train,X_test, y_train, y_test = train_test_split(X,y,random_state=42)\n",
    "lr = LinearRegression().fit(X_train, y_train)\n"
   ],
   "metadata": {
    "collapsed": false,
    "ExecuteTime": {
     "end_time": "2023-11-08T12:18:11.979295400Z",
     "start_time": "2023-11-08T12:18:11.977298700Z"
    }
   },
   "id": "cafed295a5ab544a"
  },
  {
   "cell_type": "code",
   "execution_count": 4,
   "outputs": [
    {
     "ename": "NameError",
     "evalue": "name 'diabetes' is not defined",
     "output_type": "error",
     "traceback": [
      "\u001B[1;31m---------------------------------------------------------------------------\u001B[0m",
      "\u001B[1;31mNameError\u001B[0m                                 Traceback (most recent call last)",
      "Cell \u001B[1;32mIn[4], line 2\u001B[0m\n\u001B[0;32m      1\u001B[0m \u001B[38;5;28;01mfrom\u001B[39;00m \u001B[38;5;21;01msklearn\u001B[39;00m\u001B[38;5;21;01m.\u001B[39;00m\u001B[38;5;21;01mlinear_model\u001B[39;00m \u001B[38;5;28;01mimport\u001B[39;00m LinearRegression\n\u001B[1;32m----> 2\u001B[0m X \u001B[38;5;241m=\u001B[39m diabetes\u001B[38;5;241m.\u001B[39mdata[:, \u001B[38;5;241m0\u001B[39m:\u001B[38;5;241m100000\u001B[39m]  \u001B[38;5;66;03m# Select the 50th feature\u001B[39;00m\n\u001B[0;32m      3\u001B[0m y \u001B[38;5;241m=\u001B[39m diabetes\u001B[38;5;241m.\u001B[39mtarget\n\u001B[0;32m      5\u001B[0m \u001B[38;5;66;03m# Split the data into training and testing sets\u001B[39;00m\n",
      "\u001B[1;31mNameError\u001B[0m: name 'diabetes' is not defined"
     ]
    }
   ],
   "source": [
    "print(f\"lr.coef :{lr.coef_}\")\n",
    "print(f\"lr.intercept_: {lr.intercept_}\")\n"
   ],
   "metadata": {
    "collapsed": false,
    "ExecuteTime": {
     "start_time": "2023-11-08T12:22:43.661611800Z"
    }
   },
   "id": "bb8378ca34571c26"
  },
  {
   "cell_type": "code",
   "execution_count": null,
   "outputs": [],
   "source": [
    "\n",
    "print(f'{lr.score(X_train, y_train)}')\n",
    "print(f'{lr.score(X_test, y_test)}')\n"
   ],
   "metadata": {
    "collapsed": false,
    "ExecuteTime": {
     "start_time": "2023-11-08T12:22:44.602213600Z"
    }
   },
   "id": "d2091cd3f1f1c327"
  },
  {
   "cell_type": "code",
   "execution_count": null,
   "outputs": [],
   "source": [
    "#Грибы\n",
    "from sklearn.linear_model import Ridge\n",
    "X = diabetes.data  # Select the 50th feature\n",
    "y = diabetes.target\n",
    "\n",
    "# Split the data into training and testing sets\n",
    "X_train,X_test, y_train, y_test = train_test_split(X,y,random_state=0)\n",
    "ridge = Ridge().fit(X_train, y_train)\n",
    "print(f\"Правильность на обучающем наборе :{ridge.score(X_train, y_train)}\")\n",
    "print(f\"Правильность на тестовом наборе :{ridge.score(X_test, y_test)}\")\n"
   ],
   "metadata": {
    "collapsed": false,
    "ExecuteTime": {
     "start_time": "2023-11-08T12:22:44.605214800Z"
    }
   },
   "id": "5fa6043f8795a6d4"
  },
  {
   "cell_type": "code",
   "execution_count": null,
   "outputs": [],
   "source": [
    "ridge01 = Ridge(alpha=0.1).fit(X_train, y_train)\n",
    "print(f\"Правильность на обучающем наборе :{ridge01.score(X_train, y_train)}\")\n",
    "print(f\"Правильность на тестовом наборе :{ridge01.score(X_test, y_test)}\")"
   ],
   "metadata": {
    "collapsed": false,
    "ExecuteTime": {
     "start_time": "2023-11-08T12:22:44.606216600Z"
    }
   },
   "id": "10b669d53a253890"
  },
  {
   "cell_type": "code",
   "execution_count": null,
   "outputs": [],
   "source": [
    "ridge10 = Ridge(alpha=10).fit(X_train, y_train)\n",
    "print(f\"Правильность на обучающем наборе :{ridge10.score(X_train, y_train)}\")\n",
    "print(f\"Правильность на тестовом наборе :{ridge10.score(X_test, y_test)}\")"
   ],
   "metadata": {
    "collapsed": false,
    "ExecuteTime": {
     "start_time": "2023-11-08T12:22:44.609213Z"
    }
   },
   "id": "c9139e1e837d7116"
  },
  {
   "cell_type": "code",
   "execution_count": null,
   "outputs": [],
   "source": [
    "plt.plot(ridge.coef_, 's', label=\"Гребневая регрессия alpha=1\")\n",
    "plt.plot(ridge10.coef_, '^', label=\"Гребневая регрессия alpha=10\")\n",
    "plt.plot(ridge01.coef_, 'v', label=\"Гребневая регрессия alpha=0.1\")\n",
    "plt.plot(lr.coef_, 'o', label=\"Линейная регрессия\")\n",
    "plt.xlabel(\"Индекс коэффициента\")\n",
    "plt.ylabel(\"Оценка коэффициента\")\n",
    "plt.hlines(0, 0, len(lr.coef_))\n",
    "plt.ylim(-250, 250)\n",
    "plt.legend()"
   ],
   "metadata": {
    "collapsed": false,
    "ExecuteTime": {
     "start_time": "2023-11-08T12:22:44.610213500Z"
    }
   },
   "id": "d58ef211cfa30286"
  },
  {
   "cell_type": "code",
   "execution_count": null,
   "outputs": [],
   "source": [
    "#Lasso\n",
    "from sklearn.linear_model import Lasso\n",
    "\n",
    "# Create an instance of the Logreg model and then fit it\n",
    "lasso = Lasso()  # You need to specify the alpha (regularization strength) here\n",
    "lasso.fit(X_train, y_train)\n",
    "\n",
    "print(f\"Правильность на обучающем наборе: {lasso.score(X_train, y_train)}\")\n",
    "print(f\"Правильность на тестовом наборе: {lasso.score(X_test, y_test)}\")\n",
    "print(f\"Количество использованных признаков: {np.sum(lasso.coef_ != 0)}\")\n"
   ],
   "metadata": {
    "collapsed": false,
    "ExecuteTime": {
     "start_time": "2023-11-08T12:22:44.612215700Z"
    }
   },
   "id": "62a0c135ef376b78"
  },
  {
   "cell_type": "code",
   "execution_count": null,
   "outputs": [],
   "source": [
    "lasso001 = Lasso(alpha=0.01, max_iter=1000000) # You need to specify the alpha (regularization strength) here\n",
    "lasso001.fit(X_train, y_train)\n",
    "\n",
    "print(f\"Правильность на обучающем наборе: {lasso001.score(X_train, y_train)}\")\n",
    "print(f\"Правильность на тестовом наборе: {lasso001.score(X_test, y_test)}\")\n",
    "print(f\"Количество использованных признаков: {np.sum(lasso001.coef_ != 0)}\")"
   ],
   "metadata": {
    "collapsed": false,
    "ExecuteTime": {
     "start_time": "2023-11-08T12:22:44.613216600Z"
    }
   },
   "id": "20f60d3e2260f045"
  },
  {
   "cell_type": "code",
   "execution_count": null,
   "outputs": [],
   "source": [
    "lasso0001 = Lasso(alpha=0.0001, max_iter=1000000)  # You need to specify the alpha (regularization strength) here\n",
    "lasso0001.fit(X_train, y_train)\n",
    "\n",
    "print(f\"Правильность на обучающем наборе: {lasso0001.score(X_train, y_train)}\")\n",
    "print(f\"Правильность на тестовом наборе: {lasso0001.score(X_test, y_test)}\")\n",
    "print(f\"Количество использованных признаков: {np.sum(lasso0001.coef_ != 0)}\")"
   ],
   "metadata": {
    "collapsed": false,
    "ExecuteTime": {
     "start_time": "2023-11-08T12:22:44.615213700Z"
    }
   },
   "id": "4d1dbeff4f66c75e"
  },
  {
   "cell_type": "code",
   "execution_count": null,
   "outputs": [],
   "source": [
    "plt.plot(lasso.coef_, 's', label=\"Гребневая регрессия alpha=1\")\n",
    "plt.plot(lasso001.coef_, '^', label=\"Гребневая регрессия alpha=10\")\n",
    "plt.plot(lasso0001.coef_, 'v', label=\"Гребневая регрессия alpha=0.1\")\n",
    "plt.plot(ridge01.coef_, 'o', label=\"Грибневая регрессия alpha =0.1\")\n",
    "plt.legend(ncol=2, loc=(0,1.05))\n",
    "plt.ylim(-250, 250)\n",
    "plt.xlabel(\"Индекс коэффициента\")\n",
    "plt.ylabel(\"Оценка коэффициента\")"
   ],
   "metadata": {
    "collapsed": false,
    "ExecuteTime": {
     "start_time": "2023-11-08T12:22:44.616216800Z"
    }
   },
   "id": "751d72b3ca4a99fe"
  },
  {
   "cell_type": "code",
   "execution_count": null,
   "outputs": [],
   "source": [
    "from sklearn.linear_model import LogisticRegression\n",
    "#Logreg\n",
    "logreg = LogisticRegression()\n",
    "logreg.fit(X_train, y_train)\n",
    "\n",
    "# Calculate and print the accuracy on the training and testing data\n",
    "train_accuracy = logreg.score(X_train, y_train)\n",
    "test_accuracy = logreg.score(X_test, y_test)\n",
    "\n",
    "print(f\"Accuracy on the training set: {train_accuracy}\")\n",
    "print(f\"Accuracy on the testing set: {test_accuracy}\")\n"
   ],
   "metadata": {
    "collapsed": false,
    "ExecuteTime": {
     "start_time": "2023-11-08T12:22:44.618215400Z"
    }
   },
   "id": "be70d4f7c00f3724"
  },
  {
   "cell_type": "code",
   "execution_count": null,
   "outputs": [],
   "source": [],
   "metadata": {
    "collapsed": false,
    "ExecuteTime": {
     "start_time": "2023-11-08T12:22:44.619216800Z"
    }
   },
   "id": "3b60c6548d81dac0"
  },
  {
   "cell_type": "code",
   "execution_count": null,
   "outputs": [],
   "source": [
    "logreg100 = LogisticRegression(C=100)\n",
    "logreg100.fit(X_train, y_train)\n",
    "\n",
    "# Calculate and print the accuracy on the training and testing data\n",
    "train_accuracy = logreg100.score(X_train, y_train)\n",
    "test_accuracy = logreg100.score(X_test, y_test)\n",
    "\n",
    "print(f\"Accuracy on the training set: {train_accuracy}\")\n",
    "print(f\"Accuracy on the testing set: {test_accuracy}\")"
   ],
   "metadata": {
    "collapsed": false,
    "ExecuteTime": {
     "start_time": "2023-11-08T12:22:44.621215300Z"
    }
   },
   "id": "8805273b4fa41018"
  },
  {
   "cell_type": "code",
   "execution_count": null,
   "outputs": [],
   "source": [
    "logreg001 = LogisticRegression(C=0.01)\n",
    "logreg001.fit(X_train, y_train)\n",
    "\n",
    "# Calculate and print the accuracy on the training and testing data\n",
    "train_accuracy = logreg001.score(X_train, y_train)\n",
    "test_accuracy = logreg001.score(X_test, y_test)\n",
    "\n",
    "print(f\"Accuracy on the training set: {train_accuracy}\")\n",
    "print(f\"Accuracy on the testing set: {test_accuracy}\")"
   ],
   "metadata": {
    "collapsed": false,
    "ExecuteTime": {
     "start_time": "2023-11-08T12:22:44.623214800Z"
    }
   },
   "id": "f9ccbc43ed2627b0"
  },
  {
   "cell_type": "code",
   "execution_count": null,
   "outputs": [],
   "source": [
    "import matplotlib.pyplot as plt\n",
    "import numpy as np\n",
    "\n",
    "\n",
    "plt.plot(logreg.coef_.T, 'o')\n",
    "plt.plot(logreg100.coef_.T, '^')\n",
    "plt.plot(logreg001.coef_.T, 'v')\n",
    "plt.xticks(np.arange(diabetes.data.shape[1]), diabetes.feature_names, rotation=90)\n",
    "plt.hlines(0, 0, diabetes.data.shape[1])\n",
    "plt.ylim(-15, 15)\n",
    "plt.xlabel(\"Индекс коэффициента\")\n",
    "plt.ylabel(\"Оценка коэффициента\")\n",
    "plt.legend(['C=1', 'C=100', 'C=0.01'])\n",
    "plt.show()\n"
   ],
   "metadata": {
    "collapsed": false,
    "ExecuteTime": {
     "start_time": "2023-11-08T12:22:44.624213800Z"
    }
   },
   "id": "f3310ec96189f474"
  },
  {
   "cell_type": "markdown",
   "source": [
    "<h3>Набор данных физических упражнений.\n",
    " </h3>"
   ],
   "metadata": {
    "collapsed": false,
    "ExecuteTime": {
     "end_time": "2023-11-08T12:22:46.503763900Z",
     "start_time": "2023-11-08T12:22:44.626213800Z"
    }
   },
   "id": "657f91af7ce8e432"
  },
  {
   "cell_type": "code",
   "execution_count": null,
   "outputs": [],
   "source": [
    "from sklearn.datasets import load_linnerud\n",
    "linnerud = load_linnerud()\n",
    "print(f\"Форма массива data для набора diabetes: {linnerud.data.shape}\")"
   ],
   "metadata": {
    "collapsed": false,
    "ExecuteTime": {
     "start_time": "2023-11-08T12:18:12.004807500Z"
    }
   },
   "id": "3c875122c041dd40"
  },
  {
   "cell_type": "code",
   "execution_count": null,
   "outputs": [],
   "source": [
    "print(f\"Ключи diabetes : {linnerud.keys()}\")"
   ],
   "metadata": {
    "collapsed": false,
    "ExecuteTime": {
     "start_time": "2023-11-08T12:22:44.627214100Z"
    }
   },
   "id": "8f4756f2b43063f1"
  },
  {
   "cell_type": "code",
   "execution_count": null,
   "outputs": [],
   "source": [
    "print(f'Имена признаков: {linnerud.feature_names}')"
   ],
   "metadata": {
    "collapsed": false,
    "ExecuteTime": {
     "start_time": "2023-11-08T12:22:44.629221400Z"
    }
   },
   "id": "6dfff3e5d1fe0310"
  },
  {
   "cell_type": "code",
   "execution_count": null,
   "outputs": [],
   "source": [
    "print(linnerud[\"DESCR\"] [:1500] + '/n....')"
   ],
   "metadata": {
    "collapsed": false,
    "ExecuteTime": {
     "start_time": "2023-11-08T12:22:44.630222Z"
    }
   },
   "id": "e4e09d253d4b499e"
  },
  {
   "cell_type": "code",
   "execution_count": null,
   "outputs": [],
   "source": [
    "X = linnerud.data  # Make sure X has the correct number of features\n",
    "y = linnerud.target\n",
    "X_train, X_test, y_train, y_test = train_test_split(X, y, test_size=0.2, random_state=42)\n",
    "print(\"Number of features in linnerud.data:\", linnerud.data.shape[1])\n"
   ],
   "metadata": {
    "collapsed": false,
    "ExecuteTime": {
     "start_time": "2023-11-08T12:22:44.632219700Z"
    }
   },
   "id": "eb8f193ac7751569"
  },
  {
   "cell_type": "markdown",
   "source": [
    "<h5>Линейная модель регрессии (метод наименьших квадратов)</h5>"
   ],
   "metadata": {
    "collapsed": false,
    "ExecuteTime": {
     "start_time": "2023-11-08T12:22:44.634219300Z"
    }
   },
   "id": "c7e30e1a9a10a91"
  },
  {
   "cell_type": "code",
   "execution_count": null,
   "outputs": [],
   "source": [
    "from sklearn.linear_model import LinearRegression\n",
    "lrr = LinearRegression().fit(X_train, y_train)"
   ],
   "metadata": {
    "collapsed": false,
    "ExecuteTime": {
     "start_time": "2023-11-08T12:18:12.012806600Z"
    }
   },
   "id": "79aa2a18266d1f63"
  },
  {
   "cell_type": "code",
   "execution_count": null,
   "outputs": [],
   "source": [
    "print(f\"lr.coef :{lrr.coef_}\")\n",
    "print(f\"lr.intercept_: {lrr.intercept_}\")"
   ],
   "metadata": {
    "collapsed": false,
    "ExecuteTime": {
     "start_time": "2023-11-08T12:22:44.635219900Z"
    }
   },
   "id": "2b1f8c407858b27f"
  },
  {
   "cell_type": "code",
   "execution_count": null,
   "outputs": [],
   "source": [
    "print(f'{lrr.score(X_train, y_train)}')\n",
    "print(f'{lrr.score(X_test, y_test)}')"
   ],
   "metadata": {
    "collapsed": false,
    "ExecuteTime": {
     "start_time": "2023-11-08T12:22:44.637223900Z"
    }
   },
   "id": "43429095151be7bc"
  },
  {
   "cell_type": "code",
   "execution_count": null,
   "outputs": [],
   "source": [
    "#\n",
    "from sklearn.linear_model import Ridge\n",
    "ridgee = Ridge().fit(X_train,y_train)\n",
    "print(f\"{ridgee.score(X_train,y_train)}\")\n",
    "print(f\"{ridgee.score(X_test,y_test)}\")\n"
   ],
   "metadata": {
    "collapsed": false,
    "ExecuteTime": {
     "start_time": "2023-11-08T12:22:44.639219800Z"
    }
   },
   "id": "6206d0b95a954687"
  },
  {
   "cell_type": "code",
   "execution_count": null,
   "outputs": [],
   "source": [
    "ridgee10 = Ridge(alpha=10).fit(X_train,y_train)\n",
    "print(f\"{ridgee10.score(X_train,y_train)}\")\n",
    "print(f\"{ridgee10.score(X_test,y_test)}\")"
   ],
   "metadata": {
    "collapsed": false,
    "ExecuteTime": {
     "start_time": "2023-11-08T12:22:44.640223300Z"
    }
   },
   "id": "a762a911aeb86999"
  },
  {
   "cell_type": "code",
   "execution_count": null,
   "outputs": [],
   "source": [
    "ridgee01 = Ridge(alpha=0.1).fit(X_train,y_train)\n",
    "print(f\"{ridgee01.score(X_train,y_train)}\")\n",
    "print(f\"{ridgee01.score(X_test,y_test)}\")"
   ],
   "metadata": {
    "collapsed": false,
    "ExecuteTime": {
     "start_time": "2023-11-08T12:22:44.641221200Z"
    }
   },
   "id": "6c825d2a79700956"
  },
  {
   "cell_type": "code",
   "execution_count": null,
   "outputs": [],
   "source": [
    "plt.plot(ridgee.coef_, 's', label=\"Гребневая регрессия alpha=1\")\n",
    "plt.plot(ridgee10.coef_, '^', label=\"Гребневая регрессия alpha=10\")\n",
    "plt.plot(ridgee01.coef_, 'v', label=\"Гребневая регрессия alpha=0.1\")\n",
    "plt.plot(lrr.coef_, 'o', label=\"Линейная регрессия\")\n",
    "plt.xlabel(\"Индекс коэффициента\")\n",
    "plt.ylabel(\"Оценка коэффициента\")\n",
    "plt.hlines(0, 0, len(lrr.coef_))\n",
    "plt.ylim(-25, 25)\n",
    "plt.legend()\n",
    "plt.show()"
   ],
   "metadata": {
    "collapsed": false,
    "ExecuteTime": {
     "start_time": "2023-11-08T12:22:44.642220700Z"
    }
   },
   "id": "d8b9481f51349545"
  },
  {
   "cell_type": "code",
   "execution_count": null,
   "outputs": [],
   "source": [
    "#Lasso\n",
    "from sklearn.linear_model import Lasso\n",
    "\n",
    "# Create an instance of the Logreg model and then fit it\n",
    "lasso = Lasso()  # You need to specify the alpha (regularization strength) here\n",
    "lasso.fit(X_train, y_train)\n",
    "\n",
    "print(f\"Правильность на обучающем наборе: {lasso.score(X_train, y_train)}\")\n",
    "print(f\"Правильность на тестовом наборе: {lasso.score(X_test, y_test)}\")\n",
    "print(f\"Количество использованных признаков: {np.sum(lasso.coef_ != 0)}\")"
   ],
   "metadata": {
    "collapsed": false,
    "ExecuteTime": {
     "start_time": "2023-11-08T12:22:44.643727400Z"
    }
   },
   "id": "8ae2888fda6b91d6"
  },
  {
   "cell_type": "code",
   "execution_count": null,
   "outputs": [],
   "source": [
    "lasso001 = Lasso(alpha=0.01, max_iter=1000000)  # You need to specify the alpha (regularization strength) here\n",
    "lasso001.fit(X_train, y_train)\n",
    "\n",
    "print(f\"Правильность на обучающем наборе: {lasso001.score(X_train, y_train)}\")\n",
    "print(f\"Правильность на тестовом наборе: {lasso001.score(X_test, y_test)}\")\n",
    "print(f\"Количество использованных признаков: {np.sum(lasso001.coef_ != 0)}\")"
   ],
   "metadata": {
    "collapsed": false,
    "ExecuteTime": {
     "start_time": "2023-11-08T12:22:44.644734700Z"
    }
   },
   "id": "d4fec19add7fb420"
  },
  {
   "cell_type": "code",
   "execution_count": null,
   "outputs": [],
   "source": [
    "lasso0001 = Lasso(alpha=0.0001, max_iter=1000000)  # You need to specify the alpha (regularization strength) here\n",
    "lasso0001.fit(X_train, y_train)\n",
    "\n",
    "print(f\"Правильность на обучающем наборе: {lasso0001.score(X_train, y_train)}\")\n",
    "print(f\"Правильность на тестовом наборе: {lasso0001.score(X_test, y_test)}\")\n",
    "print(f\"Количество использованных признаков: {np.sum(lasso0001.coef_ != 0)}\")"
   ],
   "metadata": {
    "collapsed": false,
    "ExecuteTime": {
     "start_time": "2023-11-08T12:22:44.645733900Z"
    }
   },
   "id": "148b95e924c63b98"
  },
  {
   "cell_type": "code",
   "execution_count": null,
   "outputs": [],
   "source": [
    "plt.plot(lasso.coef_, 's', label=\"Гребневая регрессия alpha=1\")\n",
    "plt.plot(lasso001.coef_, '^', label=\"Гребневая регрессия alpha=10\")\n",
    "plt.plot(lasso0001.coef_, 'v', label=\"Гребневая регрессия alpha=0.1\")\n",
    "plt.plot(ridgee01.coef_, 'o', label=\"Грибневая регрессия alpha =0.1\")\n",
    "plt.legend(ncol=2, loc=(0,1.05))\n",
    "plt.ylim(-2500, 2500)\n",
    "plt.xlabel(\"Индекс коэффициента\")\n",
    "plt.ylabel(\"Оценка коэффициента\")"
   ],
   "metadata": {
    "collapsed": false,
    "ExecuteTime": {
     "start_time": "2023-11-08T12:22:44.646734300Z"
    }
   },
   "id": "460147b61d9b5de7"
  },
  {
   "cell_type": "code",
   "execution_count": null,
   "outputs": [],
   "source": [
    "X = linnerud.data  # Make sure X has the correct number of features\n",
    "y = linnerud.target\n",
    "y_1d = y[:,1]\n",
    "X_train, X_test, y_train, y_test = train_test_split(X, y_1d, test_size=0.2, random_state=42)\n",
    "y_1d"
   ],
   "metadata": {
    "collapsed": false,
    "ExecuteTime": {
     "start_time": "2023-11-08T12:22:44.647734300Z"
    }
   },
   "id": "47d8bd16fbf0d2b0"
  },
  {
   "cell_type": "code",
   "execution_count": null,
   "outputs": [],
   "source": [
    "from sklearn.linear_model import LogisticRegression\n",
    "\n",
    "logreg = LogisticRegression(max_iter=100000)\n",
    "logreg.fit(X_train, y_train)\n",
    "\n",
    "# Calculate and print the accuracy on the training and testing data\n",
    "train_accuracy = logreg.score(X_train, y_train)\n",
    "test_accuracy = logreg.score(X_test, y_test)\n",
    "\n",
    "print(f\"Accuracy on the training set: {train_accuracy}\")\n",
    "print(f\"Accuracy on the testing set: {test_accuracy}\")"
   ],
   "metadata": {
    "collapsed": false,
    "ExecuteTime": {
     "start_time": "2023-11-08T12:22:44.648733700Z"
    }
   },
   "id": "6751458c7feea3d0"
  },
  {
   "cell_type": "code",
   "execution_count": null,
   "outputs": [],
   "source": [
    "logreg100 = LogisticRegression(C=1, max_iter=1000000)\n",
    "logreg100.fit(X_train, y_train)\n",
    "\n",
    "# Calculate and print the accuracy on the training and testing data\n",
    "train_accuracy = logreg100.score(X_train, y_train)\n",
    "test_accuracy = logreg100.score(X_test, y_test)\n",
    "\n",
    "print(f\"Accuracy on the training set: {train_accuracy}\")\n",
    "print(f\"Accuracy on the testing set: {test_accuracy}\")"
   ],
   "metadata": {
    "collapsed": false,
    "ExecuteTime": {
     "start_time": "2023-11-08T12:22:44.650735200Z"
    }
   },
   "id": "7c4452b5e0183423"
  },
  {
   "cell_type": "code",
   "execution_count": null,
   "outputs": [],
   "source": [
    "logreg001 = LogisticRegression(C=0.01,max_iter=100000)\n",
    "logreg001.fit(X_train, y_train)\n",
    "\n",
    "# Calculate and print the accuracy on the training and testing data\n",
    "train_accuracy = logreg001.score(X_train, y_train)\n",
    "test_accuracy = logreg001.score(X_test, y_test)\n",
    "\n",
    "print(f\"Accuracy on the training set: {train_accuracy}\")\n",
    "print(f\"Accuracy on the testing set: {test_accuracy}\")"
   ],
   "metadata": {
    "collapsed": false,
    "ExecuteTime": {
     "start_time": "2023-11-08T12:22:44.651735300Z"
    }
   },
   "id": "7b4dddfd6a58658b"
  },
  {
   "cell_type": "code",
   "execution_count": null,
   "outputs": [],
   "source": [
    "import matplotlib.pyplot as plt\n",
    "import numpy as np\n",
    "\n",
    "plt.plot(logreg.coef_.T, 'o')\n",
    "plt.plot(logreg100.coef_.T, '^')\n",
    "plt.plot(logreg001.coef_.T, 'v')\n",
    "plt.xticks(np.arange(diabetes.data.shape[1]), diabetes.feature_names, rotation=90)\n",
    "plt.hlines(0, 0, diabetes.data.shape[1])\n",
    "plt.ylim(-150, 150)\n",
    "plt.xlabel(\"Индекс коэффициента\")\n",
    "plt.ylabel(\"Оценка коэффициента\")\n",
    "plt.legend(['C=1', 'C=100', 'C=0.01'])\n",
    "plt.show()"
   ],
   "metadata": {
    "collapsed": false,
    "ExecuteTime": {
     "start_time": "2023-11-08T12:22:44.652734Z"
    }
   },
   "id": "5ee468f5a451331a"
  },
  {
   "cell_type": "code",
   "execution_count": null,
   "outputs": [],
   "source": [],
   "metadata": {
    "collapsed": false,
    "ExecuteTime": {
     "start_time": "2023-11-08T12:22:44.653734200Z"
    }
   },
   "id": "52214a5fb24e3a56"
  }
 ],
 "metadata": {
  "kernelspec": {
   "display_name": "Python 3",
   "language": "python",
   "name": "python3"
  },
  "language_info": {
   "codemirror_mode": {
    "name": "ipython",
    "version": 2
   },
   "file_extension": ".py",
   "mimetype": "text/x-python",
   "name": "python",
   "nbconvert_exporter": "python",
   "pygments_lexer": "ipython2",
   "version": "2.7.6"
  }
 },
 "nbformat": 4,
 "nbformat_minor": 5
}
